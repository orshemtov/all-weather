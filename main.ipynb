{
 "cells": [
  {
   "cell_type": "code",
   "execution_count": 1,
   "metadata": {},
   "outputs": [],
   "source": [
    "from all_weather.portfolio import Portfolio, Allocation"
   ]
  },
  {
   "cell_type": "code",
   "execution_count": 2,
   "metadata": {},
   "outputs": [
    {
     "name": "stdout",
     "output_type": "stream",
     "text": [
      "VOO        BUY        5          @ $514.39     | Adjust position from 0 to 5\n",
      "VGLT       BUY        67         @ $58.86      | Adjust position from 0 to 67\n",
      "VGIT       BUY        25         @ $58.83      | Adjust position from 0 to 25\n",
      "GLD        BUY        3          @ $223.20     | Adjust position from 0 to 3\n",
      "GSG        BUY        33         @ $22.12      | Adjust position from 0 to 33\n"
     ]
    }
   ],
   "source": [
    "portfolio = Portfolio(\n",
    "    value=10000.00,\n",
    "    allocations=[\n",
    "        Allocation(percent=0.30, symbol=\"VOO\", description=\"S&P 500\"),\n",
    "        Allocation(percent=0.40, symbol=\"VGLT\", description=\"Long-Term Treasury\"),\n",
    "        Allocation(percent=0.15, symbol=\"VGIT\", description=\"Intermediate-Term Treasury\"),\n",
    "        Allocation(percent=0.075, symbol=\"GLD\", description=\"Gold\"),\n",
    "        Allocation(percent=0.075, symbol=\"GSG\", description=\"Commodities\"),\n",
    "    ],\n",
    ")\n",
    "\n",
    "instructions = portfolio.allocate()\n",
    "\n",
    "for instruction in instructions:\n",
    "    print(instruction)"
   ]
  }
 ],
 "metadata": {
  "kernelspec": {
   "display_name": "all-weather-aMegKsqF-py3.11",
   "language": "python",
   "name": "python3"
  },
  "language_info": {
   "codemirror_mode": {
    "name": "ipython",
    "version": 3
   },
   "file_extension": ".py",
   "mimetype": "text/x-python",
   "name": "python",
   "nbconvert_exporter": "python",
   "pygments_lexer": "ipython3",
   "version": "3.11.3"
  }
 },
 "nbformat": 4,
 "nbformat_minor": 2
}
