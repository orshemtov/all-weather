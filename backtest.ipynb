{
 "cells": [
  {
   "cell_type": "code",
   "execution_count": 1,
   "metadata": {},
   "outputs": [],
   "source": [
    "from all_weather.portfolio import Portfolio, Allocation, Position\n",
    "from all_weather.market import get_multiple_historical_data\n",
    "from enum import Enum\n",
    "from pydantic import BaseModel"
   ]
  },
  {
   "cell_type": "code",
   "execution_count": 2,
   "metadata": {},
   "outputs": [],
   "source": [
    "class Trade(BaseModel):\n",
    "    symbol: str\n",
    "    action: str\n",
    "    quantity: int\n",
    "    price: float\n",
    "\n",
    "\n",
    "class RebalancePeriod(Enum):\n",
    "    DAILY = 1\n",
    "    WEEKLY = 5\n",
    "    MONTHLY = 21\n",
    "    QUARTERLY = 63\n",
    "    ANNUALLY = 252"
   ]
  },
  {
   "cell_type": "code",
   "execution_count": 7,
   "metadata": {},
   "outputs": [],
   "source": [
    "portfolio = Portfolio(\n",
    "    value=10000.00,\n",
    "    allocations=[\n",
    "        Allocation(percent=0.30, symbol=\"VOO\", description=\"S&P 500\"),\n",
    "        Allocation(percent=0.40, symbol=\"VGLT\", description=\"Long-Term Treasury\"),\n",
    "        Allocation(percent=0.15, symbol=\"VGIT\", description=\"Intermediate-Term Treasury\"),\n",
    "        Allocation(percent=0.075, symbol=\"GLD\", description=\"Gold\"),\n",
    "        Allocation(percent=0.075, symbol=\"GSG\", description=\"Commodities\"),\n",
    "    ],\n",
    "    positions=[],\n",
    ")"
   ]
  },
  {
   "cell_type": "code",
   "execution_count": 5,
   "metadata": {},
   "outputs": [
    {
     "name": "stdout",
     "output_type": "stream",
     "text": [
      "[Trade(symbol='VOO', action='SELL', quantity=199, price=151.81), Trade(symbol='VGLT', action='SELL', quantity=139, price=54.23), Trade(symbol='VGIT', action='SELL', quantity=68, price=52.19), Trade(symbol='GLD', action='SELL', quantity=36, price=125.72), Trade(symbol='GSG', action='BUY', quantity=124, price=32.64), Trade(symbol='VOO', action='SELL', quantity=271, price=162.93), Trade(symbol='VGLT', action='SELL', quantity=305, price=63.14), Trade(symbol='VGIT', action='SELL', quantity=192, price=54.06), Trade(symbol='GLD', action='SELL', quantity=78, price=114.29), Trade(symbol='GSG', action='SELL', quantity=279, price=19.8), Trade(symbol='VOO', action='SELL', quantity=161, price=163.58), Trade(symbol='VGLT', action='SELL', quantity=655, price=59.92), Trade(symbol='VGIT', action='SELL', quantity=246, price=53.98), Trade(symbol='GLD', action='SELL', quantity=80, price=101.92), Trade(symbol='GSG', action='SELL', quantity=630, price=15.51), Trade(symbol='VOO', action='SELL', quantity=136, price=173.93), Trade(symbol='VGLT', action='SELL', quantity=298, price=69.48), Trade(symbol='VGIT', action='SELL', quantity=223, price=56.45), Trade(symbol='GLD', action='SELL', quantity=15, price=127.96), Trade(symbol='GSG', action='SELL', quantity=643, price=14.16), Trade(symbol='VOO', action='SELL', quantity=54, price=189.45), Trade(symbol='VGLT', action='SELL', quantity=627, price=63.65), Trade(symbol='VGIT', action='SELL', quantity=199, price=55.6), Trade(symbol='GLD', action='SELL', quantity=50, price=122.82), Trade(symbol='GSG', action='SELL', quantity=224, price=15.02), Trade(symbol='VOO', action='BUY', quantity=1, price=219.77), Trade(symbol='VGLT', action='SELL', quantity=384, price=64.86), Trade(symbol='VGIT', action='SELL', quantity=200, price=55.21), Trade(symbol='GLD', action='SELL', quantity=46, price=121.77), Trade(symbol='GSG', action='SELL', quantity=176, price=16.13), Trade(symbol='VOO', action='BUY', quantity=4, price=239.93), Trade(symbol='VGLT', action='SELL', quantity=368, price=63.17), Trade(symbol='VGIT', action='SELL', quantity=132, price=54.83), Trade(symbol='GLD', action='SELL', quantity=54, price=113.32), Trade(symbol='GSG', action='SELL', quantity=36, price=17.26), Trade(symbol='VOO', action='SELL', quantity=47, price=240.2), Trade(symbol='VGLT', action='BUY', quantity=18, price=67.8), Trade(symbol='VGIT', action='SELL', quantity=26, price=57.59), Trade(symbol='GLD', action='BUY', quantity=5, price=122.39), Trade(symbol='GSG', action='SELL', quantity=330, price=16.24), Trade(symbol='VOO', action='BUY', quantity=93, price=283.53), Trade(symbol='VGLT', action='BUY', quantity=287, price=76.23), Trade(symbol='VGIT', action='BUY', quantity=15, price=60.09), Trade(symbol='GLD', action='BUY', quantity=51, price=146.79), Trade(symbol='GSG', action='SELL', quantity=213, price=15.58), Trade(symbol='VOO', action='SELL', quantity=41, price=292.37), Trade(symbol='VGLT', action='BUY', quantity=226, price=89.83), Trade(symbol='VGIT', action='SELL', quantity=35, price=64.43), Trade(symbol='GLD', action='BUY', quantity=31, price=178.7), Trade(symbol='GSG', action='SELL', quantity=1850, price=10.55), Trade(symbol='VOO', action='BUY', quantity=99, price=370.55), Trade(symbol='VGLT', action='SELL', quantity=706, price=79.23), Trade(symbol='VGIT', action='SELL', quantity=170, price=63.27), Trade(symbol='GLD', action='SELL', quantity=27, price=177.74), Trade(symbol='GSG', action='BUY', quantity=1352, price=15.93), Trade(symbol='VOO', action='SELL', quantity=77, price=386.36), Trade(symbol='VGLT', action='SELL', quantity=792, price=76.83), Trade(symbol='VGIT', action='SELL', quantity=391, price=60.81), Trade(symbol='GLD', action='SELL', quantity=55, price=177.25), Trade(symbol='GSG', action='BUY', quantity=185, price=19.77), Trade(symbol='VOO', action='SELL', quantity=185, price=347.69), Trade(symbol='VGLT', action='SELL', quantity=2562, price=56.28), Trade(symbol='VGIT', action='SELL', quantity=571, price=55.08), Trade(symbol='GLD', action='SELL', quantity=121, price=153.16), Trade(symbol='GSG', action='SELL', quantity=104, price=21.98), Trade(symbol='VOO', action='SELL', quantity=90, price=397.02), Trade(symbol='VGLT', action='SELL', quantity=1445, price=58.97), Trade(symbol='VGIT', action='SELL', quantity=654, price=56.01), Trade(symbol='GLD', action='SELL', quantity=40, price=178.64), Trade(symbol='GSG', action='SELL', quantity=1339, price=19.9), Trade(symbol='VOO', action='BUY', quantity=19, price=466.84), Trade(symbol='VGLT', action='SELL', quantity=1569, price=57.39), Trade(symbol='VGIT', action='SELL', quantity=416, price=57.43), Trade(symbol='GLD', action='SELL', quantity=16, price=199.71), Trade(symbol='GSG', action='SELL', quantity=243, price=21.81)]\n"
     ]
    }
   ],
   "source": [
    "symbols = [allocation.symbol for allocation in portfolio.allocations]\n",
    "data = get_multiple_historical_data(symbols)\n",
    "rebalance_period = RebalancePeriod.ANNUALLY  # rebalance every year\n",
    "last_rebalance_date = None\n",
    "trades = []\n",
    "\n",
    "for timestamp, prices in data.iterrows():\n",
    "    if not last_rebalance_date:\n",
    "        # If this is the first iteration, allocate the initial portfolio\n",
    "        last_rebalance_date = timestamp\n",
    "        instructions = portfolio.allocate(prices=prices.to_dict())\n",
    "        for instruction in instructions:\n",
    "            # Initialize the position\n",
    "            position = Position(symbol=instruction.symbol, quantity=instruction.quantity)\n",
    "            portfolio.positions.append(position)\n",
    "\n",
    "            # Update the portfolio value\n",
    "            portfolio.value -= instruction.quantity * instruction.price\n",
    "\n",
    "            # Record trade\n",
    "            trade = Trade(\n",
    "                symbol=instruction.symbol,\n",
    "                action=instruction.action,\n",
    "                quantity=instruction.quantity,\n",
    "                price=instruction.price,\n",
    "            )\n",
    "            trades.append(trade)\n",
    "    else:\n",
    "        # Check if it's time for rebalancing\n",
    "        days_since_rebalance = (timestamp - last_rebalance_date).days\n",
    "        if days_since_rebalance >= rebalance_period.value:\n",
    "            last_rebalance_date = timestamp\n",
    "            instructions = portfolio.allocate(prices=prices.to_dict())\n",
    "            for instruction in instructions:\n",
    "                # Adjust positions\n",
    "                for position in portfolio.positions:\n",
    "                    if position.symbol == instruction.symbol:\n",
    "                        position.quantity += (\n",
    "                            instruction.quantity if instruction.action == \"BUY\" else -1 * instruction.quantity\n",
    "                        )\n",
    "\n",
    "                # Update the portfolio value\n",
    "                portfolio.value -= instruction.quantity * instruction.price\n",
    "\n",
    "                # Record trade\n",
    "                trade = Trade(\n",
    "                    symbol=instruction.symbol,\n",
    "                    action=instruction.action,\n",
    "                    quantity=instruction.quantity,\n",
    "                    price=instruction.price,\n",
    "                )\n",
    "                trades.append(trade)\n",
    "\n",
    "print(trades)\n"
   ]
  }
 ],
 "metadata": {
  "kernelspec": {
   "display_name": "all-weather-aMegKsqF-py3.11",
   "language": "python",
   "name": "python3"
  },
  "language_info": {
   "codemirror_mode": {
    "name": "ipython",
    "version": 3
   },
   "file_extension": ".py",
   "mimetype": "text/x-python",
   "name": "python",
   "nbconvert_exporter": "python",
   "pygments_lexer": "ipython3",
   "version": "3.11.3"
  }
 },
 "nbformat": 4,
 "nbformat_minor": 2
}
